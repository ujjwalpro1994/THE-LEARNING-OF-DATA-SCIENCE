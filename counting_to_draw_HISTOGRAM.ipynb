{
 "cells": [
  {
   "cell_type": "code",
   "execution_count": 3,
   "id": "c4d0ce21",
   "metadata": {},
   "outputs": [
    {
     "name": "stdout",
     "output_type": "stream",
     "text": [
      "[1, 2, 3, 4, 5, 6, 7, 8, 9]\n",
      "[3, 4, 2, 6, 11, 6, 4, 4, 3]\n"
     ]
    }
   ],
   "source": [
    "A=[2,5,4,6,7,8,9,4,5,6,1,2,3,5,5,6,8,7,8,9,7,5,5,4,5,6,4,5,6,6,5,1,2,4,5,7,8,9,5,1,2,3,4]\n",
    "B=list(set(A))\n",
    "print(B)\n",
    "D=[A.count(i) for i in B]\n",
    "print(D)\n",
    "G=dict"
   ]
  },
  {
   "cell_type": "code",
   "execution_count": 28,
   "id": "0e33ddde",
   "metadata": {},
   "outputs": [
    {
     "name": "stdout",
     "output_type": "stream",
     "text": [
      "0\n"
     ]
    }
   ],
   "source": [
    "from math import *\n",
    "b=floor((1-0.99)/2)\n",
    "print(b)"
   ]
  },
  {
   "cell_type": "code",
   "execution_count": 16,
   "id": "7e9f24d1",
   "metadata": {},
   "outputs": [
    {
     "name": "stdout",
     "output_type": "stream",
     "text": [
      "[0, 1, 2, 3, 4]\n"
     ]
    }
   ],
   "source": [
    "a=list(range(int(5.2)))\n",
    "print(a)"
   ]
  },
  {
   "cell_type": "code",
   "execution_count": 25,
   "id": "f2c086bb",
   "metadata": {},
   "outputs": [
    {
     "data": {
      "image/png": "[encoded data removed]",
      "text/plain": [
       "<Figure size 640x480 with 1 Axes>"
      ]
     },
     "metadata": {},
     "output_type": "display_data"
    }
   ],
   "source": [
    "binb=list(range(11))\n",
    "binc=[(binb[i]+binb[i+1])/2 for i in range(len(binb)-1)]\n",
    "count=[23,25,24,58,78,74,72,84,89,88]\n",
    "import matplotlib.pyplot as plt\n",
    "plt.bar(binc,count,width=0.9)\n",
    "plt.grid()\n",
    "plt.xticks(binb)\n",
    "plt.show()\n"
   ]
  },
  {
   "cell_type": "code",
   "execution_count": 67,
   "id": "6cc00ebc",
   "metadata": {},
   "outputs": [
    {
     "name": "stdout",
     "output_type": "stream",
     "text": [
      "[10, 11, 12, 13, 14, 15, 16, 17, 18, 19, 20, 21, 22, 23, 24, 25, 26, 27, 28, 29, 30, 31, 32, 33, 34, 35, 36, 37, 38, 39, 40, 41, 42, 43, 44, 45, 46, 47, 48, 49, 50, 51, 52, 53, 54, 55, 56, 57, 58, 59, 60, 61, 62, 63, 64, 65, 66, 67, 68, 69, 70, 71, 72, 73, 74, 75, 76, 77, 78, 79, 80]\n",
      "{0: 0, 1: 0, 2: 0, 3: 0, 4: 0, 5: 0, 6: 0}\n",
      "Division 1: 10 numbers\n",
      "Division 2: 10 numbers\n",
      "Division 3: 10 numbers\n",
      "Division 4: 10 numbers\n",
      "Division 5: 10 numbers\n",
      "Division 6: 10 numbers\n",
      "Division 7: 11 numbers\n"
     ]
    }
   ],
   "source": [
    "# Define the list of numbers from 10 to 80\n",
    "numbers_list = list(range(10, 81))\n",
    "print(numbers_list)\n",
    "\n",
    "\n",
    "# Define the number of divisions\n",
    "num_divisions = 7\n",
    "\n",
    "# Calculate the width of each division\n",
    "division_width = (80 - 10) / num_divisions\n",
    "\n",
    "# Initialize a dictionary to store the count for each division\n",
    "division_counts = {i: 0 for i in range(num_divisions)}\n",
    "print(division_counts)\n",
    "\n",
    "# Count the numbers in each division\n",
    "#from math import *\n",
    "for number in numbers_list:\n",
    "    division_index = int((number - 10) / division_width)\n",
    "    #print(division_index)\n",
    "    if division_index == num_divisions:\n",
    "        division_index -= 1  # Adjust for the last division\n",
    "        #print(division_index)\n",
    "    division_counts[division_index] += 1\n",
    "    #print(division_counts)\n",
    "    \n",
    "\n",
    "# Print the counts for each division\n",
    "for division_index,count in division_counts.items():\n",
    "    print(f'Division {division_index + 1}: {count} numbers')\n",
    "\n"
   ]
  },
  {
   "cell_type": "code",
   "execution_count": 45,
   "id": "e22b4f3e",
   "metadata": {},
   "outputs": [
    {
     "name": "stdout",
     "output_type": "stream",
     "text": [
      "1\n",
      "2\n",
      "5\n",
      "4\n",
      "5\n",
      "7\n",
      "8\n",
      "9\n",
      "5\n",
      "4\n",
      "6\n",
      "5\n",
      "5\n",
      "2\n",
      "5\n"
     ]
    }
   ],
   "source": [
    "A=[1,2,5,4,5,7,8,9,5,4,6,5,5,2,5]\n",
    "for i in A:\n",
    "    print(i)"
   ]
  },
  {
   "cell_type": "code",
   "execution_count": 59,
   "id": "42cf1524",
   "metadata": {},
   "outputs": [
    {
     "data": {
      "text/plain": [
       "2"
      ]
     },
     "execution_count": 59,
     "metadata": {},
     "output_type": "execute_result"
    }
   ],
   "source": [
    "int(2.6)"
   ]
  },
  {
   "cell_type": "code",
   "execution_count": null,
   "id": "0a2659a4",
   "metadata": {},
   "outputs": [],
   "source": []
  }
 ],
 "metadata": {
  "kernelspec": {
   "display_name": "Python 3 (ipykernel)",
   "language": "python",
   "name": "python3"
  },
  "language_info": {
   "codemirror_mode": {
    "name": "ipython",
    "version": 3
   },
   "file_extension": ".py",
   "mimetype": "text/x-python",
   "name": "python",
   "nbconvert_exporter": "python",
   "pygments_lexer": "ipython3",
   "version": "3.11.5"
  }
 },
 "nbformat": 4,
 "nbformat_minor": 5
}
