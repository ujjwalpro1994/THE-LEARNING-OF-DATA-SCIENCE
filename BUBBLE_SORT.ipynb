{
 "cells": [
  {
   "cell_type": "code",
   "execution_count": 2,
   "id": "f8f8f400",
   "metadata": {},
   "outputs": [
    {
     "name": "stdout",
     "output_type": "stream",
     "text": [
      "[0.13, 0.24, 0.34, 0.34, 0.52, 0.59, 0.59, 0.61, 0.63, 0.77]\n"
     ]
    }
   ],
   "source": [
    "#Bubble sort:\n",
    "from random import random\n",
    "N=10\n",
    "A=[round(random(),2)for i in range(N)]\n",
    "for i in range(N-1):\n",
    "    for j in range(N-1-i):\n",
    "        if A[j]>A[j+1]:\n",
    "            A[j+1],A[j]=A[j],A[j+1]\n",
    "print(A)"
   ]
  },
  {
   "cell_type": "code",
   "execution_count": 20,
   "id": "e0724832",
   "metadata": {},
   "outputs": [
    {
     "name": "stdout",
     "output_type": "stream",
     "text": [
      "[0.05, 0.1, 0.18, 0.24, 0.28, 0.34, 0.38, 0.48, 0.49, 0.58, 0.67, 0.77, 0.89, 0.94, 0.99]\n"
     ]
    }
   ],
   "source": [
    "#Insertion sort:\n",
    "from random import random\n",
    "N=15\n",
    "A=[round(random(),2) for i in range(N)]\n",
    "#print(A)\n",
    "for i in range(N-1):\n",
    "    for j in range(i,N):\n",
    "        if A[i]>A[j]:\n",
    "            A.insert(i,A.pop(j))\n",
    "print(A)\n"
   ]
  },
  {
   "cell_type": "code",
   "execution_count": 15,
   "id": "7ccaa912",
   "metadata": {},
   "outputs": [
    {
     "name": "stdout",
     "output_type": "stream",
     "text": [
      "2\n",
      "3\n",
      "4\n",
      "5\n",
      "6\n",
      "7\n",
      "8\n"
     ]
    }
   ],
   "source": [
    "for j in range(2,9):\n",
    "    print(j)\n",
    "#print(list(A))"
   ]
  },
  {
   "cell_type": "code",
   "execution_count": 25,
   "id": "ce91469d",
   "metadata": {},
   "outputs": [
    {
     "name": "stdout",
     "output_type": "stream",
     "text": [
      "[0.01, 0.09, 0.12, 0.14, 0.26, 0.32, 0.55, 0.77, 0.85, 0.92]\n"
     ]
    }
   ],
   "source": [
    "from random import random\n",
    "N=10\n",
    "A=[round(random(),2) for i in range(N)]\n",
    "for i in range(N-1):\n",
    "    for j in range(N-1-i):\n",
    "        if A[j]>A[j+1]:\n",
    "            A[j],A[j+1]=A[j+1],A[j]\n",
    "print(A)"
   ]
  },
  {
   "cell_type": "code",
   "execution_count": 28,
   "id": "202c59c4",
   "metadata": {},
   "outputs": [
    {
     "name": "stdout",
     "output_type": "stream",
     "text": [
      "[0.18, 0.26, 0.31, 0.52, 0.55, 0.58, 0.59, 0.88, 0.93, 0.96]\n"
     ]
    }
   ],
   "source": [
    "from random import random\n",
    "N=10\n",
    "A=[round(random(),2) for i in range(N)]\n",
    "for i in range(N-1):\n",
    "    for j in range(i,N):\n",
    "        if A[i]>=A[j]:\n",
    "            A.insert(i,A.pop(j))\n",
    "print(A)"
   ]
  },
  {
   "cell_type": "code",
   "execution_count": 90,
   "id": "66e6081d",
   "metadata": {},
   "outputs": [
    {
     "name": "stdout",
     "output_type": "stream",
     "text": [
      "19\n",
      "[0.01, 0.07, 0.25, 0.08, 0.39, 0.44, 0.5, 0.52, 0.57, 0.59, 0.64, 0.68, 0.75, 0.76, 0.8, 0.83, 0.89, 0.94, 0.96]\n"
     ]
    }
   ],
   "source": [
    "from random import random\n",
    "#N=10\n",
    "A=[round(random(),2) for i in range(19)]\n",
    "#A=[1,2,5,7,4,5,4,7,8,85,4,45,4,5,4,5,22,2,2,4,787,454,454,5454,5434,23,324,32,3,5,5,4,5,5,4,4,5,5]\n",
    "N=len(A)\n",
    "print(N)\n",
    "for i in range(N-4):\n",
    "    for j in range(N-1-i):\n",
    "        if A[j]>A[j+1]:\n",
    "            A[j],A[j+1]=A[j+1],A[j]\n",
    "print(A)"
   ]
  },
  {
   "cell_type": "code",
   "execution_count": 66,
   "id": "de353068",
   "metadata": {},
   "outputs": [
    {
     "data": {
      "text/plain": [
       "[0, 1]"
      ]
     },
     "execution_count": 66,
     "metadata": {},
     "output_type": "execute_result"
    }
   ],
   "source": [
    "list(range(2))"
   ]
  },
  {
   "cell_type": "code",
   "execution_count": 105,
   "id": "38906e11",
   "metadata": {},
   "outputs": [
    {
     "name": "stdout",
     "output_type": "stream",
     "text": [
      "[0.5, 0.01, 0.62, 0.71, 0.78, 0.51, 0.99, 0.19, 0.42, 0.48]\n",
      "[0.01, 0.19, 0.42, 0.48, 0.5, 0.51, 0.62, 0.71, 0.78, 0.99]\n"
     ]
    }
   ],
   "source": [
    "from random import random\n",
    "N=10\n",
    "A=[round(random(),2)for i in range(N)]\n",
    "print(A)\n",
    "for i in range(N-1):\n",
    "    mx=max(A[0:N-i])\n",
    "    ix=A.index(mx)\n",
    "    A[ix],A[-1-i]=A[-1-i],A[ix]\n",
    "print(A)"
   ]
  },
  {
   "cell_type": "code",
   "execution_count": 37,
   "id": "b8620273",
   "metadata": {},
   "outputs": [
    {
     "name": "stdout",
     "output_type": "stream",
     "text": [
      "0.0\n",
      "0.004979848861694336\n",
      "0.0\n"
     ]
    }
   ],
   "source": [
    "from random import random\n",
    "from time import time\n",
    "N=100\n",
    "A=[round(random(),2) for i in range(N)]\n",
    "B=A.copy()\n",
    "C=A.copy()\n",
    "D=A.copy()\n",
    "##BUBBLE SORT\n",
    "t1=time()\n",
    "for i in range(N-1):\n",
    "    for j in range(N-1-i):\n",
    "        if B[j]>B[j+1]:\n",
    "            B[j],B[j+1]=B[j+1],B[j]\n",
    "#print(B)\n",
    "##SELECTION SORT\n",
    "t2=time()\n",
    "for i in range(N-1):\n",
    "    mx=max(C[0:N-i])\n",
    "    ix=C.index(mx)\n",
    "    C[ix],C[-1-i]=C[-1-i],C[ix]\n",
    "#print(C)\n",
    "##INSERTION SORT\n",
    "t3=time()\n",
    "for i in range(N-1):\n",
    "    for j in range(i+1,N):\n",
    "        if D[i]>D[j]:\n",
    "            D.insert(i,D.pop(j))\n",
    "t4=time()\n",
    "#print(D)\n",
    "#t4=time()\n",
    "print(t2-t1)\n",
    "print(t3-t2)\n",
    "print(t4-t3)\n",
    "#print(t3)"
   ]
  },
  {
   "cell_type": "code",
   "execution_count": null,
   "id": "58dc0e8a",
   "metadata": {},
   "outputs": [],
   "source": [
    "from random import random\n",
    "N=10\n",
    "A=[round(random(),2)for i in range(N)]\n",
    "\n"
   ]
  },
  {
   "cell_type": "code",
   "execution_count": null,
   "id": "ce415f4a",
   "metadata": {},
   "outputs": [],
   "source": [
    "##Selection sort:\n",
    "from random import random\n",
    "N=10\n",
    "A=[round(random(),2)for i in range(N)]\n",
    "D=A.copy()\n",
    "print(A)\n",
    "for i in range(N-1):\n",
    "    mx=max(A[0:N-i])\n",
    "    ix=A.index(mx)\n",
    "    A[ix],A[-1-i]=A[-1-i],A[ix]\n",
    "print(A)\n",
    "#print(sorted(D))\n",
    "print(D)\n",
    "#D.sort()\n",
    "#print(D)\n",
    "print(sorted(D))\n"
   ]
  },
  {
   "cell_type": "code",
   "execution_count": null,
   "id": "53f2c6fa",
   "metadata": {},
   "outputs": [],
   "source": []
  }
 ],
 "metadata": {
  "kernelspec": {
   "display_name": "Python 3 (ipykernel)",
   "language": "python",
   "name": "python3"
  },
  "language_info": {
   "codemirror_mode": {
    "name": "ipython",
    "version": 3
   },
   "file_extension": ".py",
   "mimetype": "text/x-python",
   "name": "python",
   "nbconvert_exporter": "python",
   "pygments_lexer": "ipython3",
   "version": "3.11.5"
  }
 },
 "nbformat": 4,
 "nbformat_minor": 5
}
